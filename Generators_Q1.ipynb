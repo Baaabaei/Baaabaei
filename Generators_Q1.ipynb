{
  "nbformat": 4,
  "nbformat_minor": 0,
  "metadata": {
    "colab": {
      "provenance": [],
      "authorship_tag": "ABX9TyPHN0bSrj5eH+pTF2RopWpH",
      "include_colab_link": true
    },
    "kernelspec": {
      "name": "python3",
      "display_name": "Python 3"
    },
    "language_info": {
      "name": "python"
    }
  },
  "cells": [
    {
      "cell_type": "markdown",
      "metadata": {
        "id": "view-in-github",
        "colab_type": "text"
      },
      "source": [
        "<a href=\"https://colab.research.google.com/github/Baaabaei/Baaabaei/blob/main/Generators_Q1.ipynb\" target=\"_parent\"><img src=\"https://colab.research.google.com/assets/colab-badge.svg\" alt=\"Open In Colab\"/></a>"
      ]
    },
    {
      "cell_type": "code",
      "source": [
        "pip install pulp"
      ],
      "metadata": {
        "colab": {
          "base_uri": "https://localhost:8080/"
        },
        "id": "mLV9Nane5t6o",
        "outputId": "b8f3cf62-3fc8-4241-b915-d35dc685cc5b"
      },
      "execution_count": 2,
      "outputs": [
        {
          "output_type": "stream",
          "name": "stdout",
          "text": [
            "Collecting pulp\n",
            "  Downloading PuLP-2.8.0-py3-none-any.whl (17.7 MB)\n",
            "\u001b[2K     \u001b[90m━━━━━━━━━━━━━━━━━━━━━━━━━━━━━━━━━━━━━━━━\u001b[0m \u001b[32m17.7/17.7 MB\u001b[0m \u001b[31m31.4 MB/s\u001b[0m eta \u001b[36m0:00:00\u001b[0m\n",
            "\u001b[?25hInstalling collected packages: pulp\n",
            "Successfully installed pulp-2.8.0\n"
          ]
        }
      ]
    },
    {
      "cell_type": "code",
      "source": [
        "import numpy as np\n",
        "import pandas as pd\n",
        "import pulp"
      ],
      "metadata": {
        "id": "Oy3mp70R5Zgn"
      },
      "execution_count": 3,
      "outputs": []
    },
    {
      "cell_type": "code",
      "source": [
        "\n",
        "# Define the generator types\n",
        "generator_types = [\n",
        "    {\"initial_cost\": 2000, \"cost_per_mw\": 2, \"cost_per_hour_at_minimum\": 1000, \"maximum_level\": 2000, \"minimum_level\": 850},\n",
        "    {\"initial_cost\": 1000, \"cost_per_mw\": 1.3, \"cost_per_hour_at_minimum\": 2600, \"maximum_level\": 1750, \"minimum_level\": 1250},\n",
        "    {\"initial_cost\": 500, \"cost_per_mw\": 3, \"cost_per_hour_at_minimum\": 3000, \"maximum_level\": 4000, \"minimum_level\": 1500},\n",
        "]"
      ],
      "metadata": {
        "id": "y19C9F545cTM"
      },
      "execution_count": 4,
      "outputs": []
    },
    {
      "cell_type": "code",
      "source": [
        "# Define the load requirements\n",
        "load_requirements = {\n",
        "    \"12 pm to 6 am\": 15000,\n",
        "    \"6 to 9 am\": 30000,\n",
        "    \"9 am to 3 pm\": 25000,\n",
        "    \"3 pm to 6 pm\": 40000,\n",
        "    \"6 pm to 12 pm\": 27000,\n",
        "}\n"
      ],
      "metadata": {
        "id": "1rXegkvH5gTG"
      },
      "execution_count": 5,
      "outputs": []
    },
    {
      "cell_type": "code",
      "source": [
        "# Create a model\n",
        "model = pulp.LpProblem(\"Generator Scheduling\", pulp.LpMinimize)\n"
      ],
      "metadata": {
        "colab": {
          "base_uri": "https://localhost:8080/"
        },
        "id": "LcS8w8aL57H2",
        "outputId": "6169e59a-1fc2-46a0-c8c5-b8e430c47e7a"
      },
      "execution_count": 6,
      "outputs": [
        {
          "output_type": "stream",
          "name": "stderr",
          "text": [
            "/usr/local/lib/python3.10/dist-packages/pulp/pulp.py:1316: UserWarning: Spaces are not permitted in the name. Converted to '_'\n",
            "  warnings.warn(\"Spaces are not permitted in the name. Converted to '_'\")\n"
          ]
        }
      ]
    },
    {
      "cell_type": "code",
      "source": [
        "# Define generator types as a list or tuple\n",
        "generator_types = ['type1', 'type2', 'type3']\n",
        "\n",
        "# Create decision variables for the generator output\n",
        "generator_output = pulp.LpVariable.dicts(\"Generator Output\", (generator_types, list(load_requirements.keys())), cat=pulp.LpContinuous, lowBound=0)\n"
      ],
      "metadata": {
        "id": "wUyrTdND5_R8"
      },
      "execution_count": 12,
      "outputs": []
    },
    {
      "cell_type": "code",
      "source": [
        "# Create decision variables for the generator status\n",
        "generator_status = pulp.LpVariable.dicts(\"Generator Status\", (generator_types, load_requirements.keys()), cat=pulp.LpBinary)"
      ],
      "metadata": {
        "id": "LUFJDObk6cP0"
      },
      "execution_count": 13,
      "outputs": []
    },
    {
      "cell_type": "code",
      "source": [
        "# Define generator types as a list of dictionaries\n",
        "generator_types = [\n",
        "    {\"initial_cost\": 10, \"cost_per_hour_at_minimum\": 2, \"cost_per_mw\": 5, \"minimum_level\": 20},\n",
        "    {\"initial_cost\": 15, \"cost_per_hour_at_minimum\": 3, \"cost_per_mw\": 7, \"minimum_level\": 30},\n",
        "    # Add more generator types as needed\n",
        "]\n",
        "\n",
        "# Create decision variables for generator status and output\n",
        "generator_status = pulp.LpVariable.dicts(\"Generator Status\", [(i, t) for i in range(len(generator_types)) for t in load_requirements.keys()], cat=pulp.LpBinary)\n",
        "generator_output = pulp.LpVariable.dicts(\"Generator Output\", [(i, t) for i in range(len(generator_types)) for t in load_requirements.keys()], cat=pulp.LpContinuous, lowBound=0)\n",
        "\n",
        "# Objective function: minimize the total cost\n",
        "objective = pulp.lpSum([\n",
        "    generator_types[i][\"initial_cost\"] * generator_status[(i, t)]\n",
        "    + generator_types[i][\"cost_per_hour_at_minimum\"] * generator_status[(i, t)]\n",
        "    + generator_types[i][\"cost_per_mw\"] * (generator_output[(i, t)] - generator_types[i][\"minimum_level\"])\n",
        "    for i in range(len(generator_types))\n",
        "    for t in load_requirements.keys()\n",
        "])\n",
        "model.setObjective(objective)\n"
      ],
      "metadata": {
        "id": "Z4TimBZp6cGR"
      },
      "execution_count": 16,
      "outputs": []
    },
    {
      "cell_type": "code",
      "source": [
        "# Constraints: meet the load requirements\n",
        "for t in load_requirements.keys():\n",
        "    model.addConstraint(pulp.lpSum([generator_output[i, t] for i in range(len(generator_types))]) >= load_requirements[t] * 1.15)\n"
      ],
      "metadata": {
        "id": "5gH-eB8W8it1"
      },
      "execution_count": 17,
      "outputs": []
    },
    {
      "cell_type": "code",
      "source": [
        "# Constraints: generator output limits\n",
        "for i in range(len(generator_types)):\n",
        "    for t in load_requirements.keys():\n",
        "        # Check if \"maximum_level\" key exists in generator_types[i] dictionary\n",
        "        if \"maximum_level\" in generator_types[i]:\n",
        "            model.addConstraint(generator_output[(i, t)] <= generator_types[i][\"maximum_level\"] * generator_status[(i, t)])\n",
        "        else:\n",
        "            # Handle the case when \"maximum_level\" key is not present\n",
        "            print(f\"Warning: Generator type {i} does not have 'maximum_level' key.\")\n",
        "        # Add constraint for minimum_level\n",
        "        model.addConstraint(generator_output[(i, t)] >= generator_types[i][\"minimum_level\"] * generator_status[(i, t)])\n",
        "\n"
      ],
      "metadata": {
        "colab": {
          "base_uri": "https://localhost:8080/"
        },
        "id": "ycj9RcIW8lbZ",
        "outputId": "52a10800-08f5-4457-f442-075f78690205"
      },
      "execution_count": 19,
      "outputs": [
        {
          "output_type": "stream",
          "name": "stdout",
          "text": [
            "Warning: Generator type 0 does not have 'maximum_level' key.\n",
            "Warning: Generator type 0 does not have 'maximum_level' key.\n",
            "Warning: Generator type 0 does not have 'maximum_level' key.\n",
            "Warning: Generator type 0 does not have 'maximum_level' key.\n",
            "Warning: Generator type 0 does not have 'maximum_level' key.\n",
            "Warning: Generator type 1 does not have 'maximum_level' key.\n",
            "Warning: Generator type 1 does not have 'maximum_level' key.\n",
            "Warning: Generator type 1 does not have 'maximum_level' key.\n",
            "Warning: Generator type 1 does not have 'maximum_level' key.\n",
            "Warning: Generator type 1 does not have 'maximum_level' key.\n"
          ]
        }
      ]
    },
    {
      "cell_type": "code",
      "source": [
        "# Solve the model\n",
        "model.solve()"
      ],
      "metadata": {
        "colab": {
          "base_uri": "https://localhost:8080/"
        },
        "id": "PDjxoho89Ar9",
        "outputId": "9beb36f1-7ef3-4104-9017-6ad25e92d9e5"
      },
      "execution_count": 20,
      "outputs": [
        {
          "output_type": "execute_result",
          "data": {
            "text/plain": [
              "1"
            ]
          },
          "metadata": {},
          "execution_count": 20
        }
      ]
    },
    {
      "cell_type": "code",
      "source": [
        "# Print the results\n",
        "print(\"Generator Output:\")\n",
        "for i in range(len(generator_types)):\n",
        "    for t in load_requirements.keys():\n",
        "        print(f\"Generator {i + 1}, Time {t}: {generator_output[i, t].value()} MW\")\n"
      ],
      "metadata": {
        "colab": {
          "base_uri": "https://localhost:8080/"
        },
        "id": "g5mcDGkO9Dkz",
        "outputId": "055faf5b-938f-4631-f156-c9a03a8df74b"
      },
      "execution_count": 21,
      "outputs": [
        {
          "output_type": "stream",
          "name": "stdout",
          "text": [
            "Generator Output:\n",
            "Generator 1, Time 12 pm to 6 am: 17250.0 MW\n",
            "Generator 1, Time 6 to 9 am: 34500.0 MW\n",
            "Generator 1, Time 9 am to 3 pm: 28750.0 MW\n",
            "Generator 1, Time 3 pm to 6 pm: 46000.0 MW\n",
            "Generator 1, Time 6 pm to 12 pm: 31050.0 MW\n",
            "Generator 2, Time 12 pm to 6 am: 0.0 MW\n",
            "Generator 2, Time 6 to 9 am: 0.0 MW\n",
            "Generator 2, Time 9 am to 3 pm: 0.0 MW\n",
            "Generator 2, Time 3 pm to 6 pm: 0.0 MW\n",
            "Generator 2, Time 6 pm to 12 pm: 0.0 MW\n"
          ]
        }
      ]
    },
    {
      "cell_type": "code",
      "source": [
        "print(\"\\nGenerator Status:\")\n",
        "for i in range(len(generator_types)):\n",
        "    for t in load_requirements.keys():\n",
        "        print(f\"Generator {i + 1}, Time {t}: {'On' if generator_status[i, t].value() > 0 else 'Off'}\")\n"
      ],
      "metadata": {
        "colab": {
          "base_uri": "https://localhost:8080/"
        },
        "id": "KCYMdaDf9HPq",
        "outputId": "f081887d-85bf-4320-d7ba-db8034928daa"
      },
      "execution_count": 22,
      "outputs": [
        {
          "output_type": "stream",
          "name": "stdout",
          "text": [
            "\n",
            "Generator Status:\n",
            "Generator 1, Time 12 pm to 6 am: Off\n",
            "Generator 1, Time 6 to 9 am: Off\n",
            "Generator 1, Time 9 am to 3 pm: Off\n",
            "Generator 1, Time 3 pm to 6 pm: Off\n",
            "Generator 1, Time 6 pm to 12 pm: Off\n",
            "Generator 2, Time 12 pm to 6 am: Off\n",
            "Generator 2, Time 6 to 9 am: Off\n",
            "Generator 2, Time 9 am to 3 pm: Off\n",
            "Generator 2, Time 3 pm to 6 pm: Off\n",
            "Generator 2, Time 6 pm to 12 pm: Off\n"
          ]
        }
      ]
    },
    {
      "cell_type": "code",
      "source": [
        "print(\"\\nTotal Cost:\", model.objective.value())\n"
      ],
      "metadata": {
        "colab": {
          "base_uri": "https://localhost:8080/"
        },
        "id": "PHPGSgjB9KQR",
        "outputId": "61c2eafc-4fa4-4826-f9dc-7e77aac7e3c3"
      },
      "execution_count": 23,
      "outputs": [
        {
          "output_type": "stream",
          "name": "stdout",
          "text": [
            "\n",
            "Total Cost: 786200.0\n"
          ]
        }
      ]
    },
    {
      "cell_type": "code",
      "source": [
        "# Calculate the marginal cost of electricity production\n",
        "marginal_cost = {}\n",
        "for t in load_requirements.keys():\n",
        "    marginal_cost[t] = 0\n",
        "    for i in range(len(generator_types)):\n",
        "        if generator_status[i, t].value() > 0 and generator_output[i, t].value() < generator_types[i][\"maximum_level\"]:\n",
        "            marginal_cost[t] += generator_types[i][\"cost_per_mw\"]\n",
        "print(\"\\nMarginal Cost of Electricity Production:\")\n",
        "for t in load_requirements.keys():\n",
        "    print(f\"{t}: {marginal_cost[t]} $/MW\")"
      ],
      "metadata": {
        "colab": {
          "base_uri": "https://localhost:8080/"
        },
        "id": "jWEohToK9Oun",
        "outputId": "baadb8d2-c885-4e21-b459-3b1932c63a35"
      },
      "execution_count": 24,
      "outputs": [
        {
          "output_type": "stream",
          "name": "stdout",
          "text": [
            "\n",
            "Marginal Cost of Electricity Production:\n",
            "12 pm to 6 am: 0 $/MW\n",
            "6 to 9 am: 0 $/MW\n",
            "9 am to 3 pm: 0 $/MW\n",
            "3 pm to 6 pm: 0 $/MW\n",
            "6 pm to 12 pm: 0 $/MW\n"
          ]
        }
      ]
    },
    {
      "cell_type": "code",
      "execution_count": 25,
      "metadata": {
        "colab": {
          "base_uri": "https://localhost:8080/"
        },
        "id": "WWESR7Aw5SDq",
        "outputId": "f0c35a3f-1fe2-41d7-f363-b7ab3ba5ac5b"
      },
      "outputs": [
        {
          "output_type": "stream",
          "name": "stdout",
          "text": [
            "\n",
            "Cost of a 15% Reduction in Reserve Output: 0.0\n"
          ]
        }
      ],
      "source": [
        "# Calculate the cost of a 15% reduction in reserve output\n",
        "cost_reduction = 0\n",
        "for t in load_requirements.keys():\n",
        "    cost_reduction += marginal_cost[t] * load_requirements[t] * 0.15\n",
        "print(\"\\nCost of a 15% Reduction in Reserve Output:\", cost_reduction)"
      ]
    },
    {
      "cell_type": "code",
      "source": [],
      "metadata": {
        "id": "hUV6C9309RK1"
      },
      "execution_count": null,
      "outputs": []
    }
  ]
}