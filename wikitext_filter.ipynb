{
  "nbformat": 4,
  "nbformat_minor": 0,
  "metadata": {
    "colab": {
      "provenance": [],
      "mount_file_id": "1_Zhi7iED60XXmurup82aVaeRZhu2U7OI",
      "authorship_tag": "ABX9TyPjfiJEwzWJKyirvb+pkDl7",
      "include_colab_link": true
    },
    "kernelspec": {
      "name": "python3",
      "display_name": "Python 3"
    },
    "language_info": {
      "name": "python"
    }
  },
  "cells": [
    {
      "cell_type": "markdown",
      "metadata": {
        "id": "view-in-github",
        "colab_type": "text"
      },
      "source": [
        "<a href=\"https://colab.research.google.com/github/Baaabaei/Baaabaei/blob/main/wikitext_filter.ipynb\" target=\"_parent\"><img src=\"https://colab.research.google.com/assets/colab-badge.svg\" alt=\"Open In Colab\"/></a>"
      ]
    },
    {
      "cell_type": "code",
      "source": [
        "!pip install datasets"
      ],
      "metadata": {
        "colab": {
          "base_uri": "https://localhost:8080/"
        },
        "id": "foGSRbsfNkQV",
        "outputId": "7e18253f-c1db-4d9f-aa6a-4c713e6e9494"
      },
      "execution_count": 2,
      "outputs": [
        {
          "output_type": "stream",
          "name": "stdout",
          "text": [
            "Collecting datasets\n",
            "  Downloading datasets-3.5.0-py3-none-any.whl.metadata (19 kB)\n",
            "Requirement already satisfied: filelock in /usr/local/lib/python3.11/dist-packages (from datasets) (3.18.0)\n",
            "Requirement already satisfied: numpy>=1.17 in /usr/local/lib/python3.11/dist-packages (from datasets) (2.0.2)\n",
            "Requirement already satisfied: pyarrow>=15.0.0 in /usr/local/lib/python3.11/dist-packages (from datasets) (18.1.0)\n",
            "Collecting dill<0.3.9,>=0.3.0 (from datasets)\n",
            "  Downloading dill-0.3.8-py3-none-any.whl.metadata (10 kB)\n",
            "Requirement already satisfied: pandas in /usr/local/lib/python3.11/dist-packages (from datasets) (2.2.2)\n",
            "Requirement already satisfied: requests>=2.32.2 in /usr/local/lib/python3.11/dist-packages (from datasets) (2.32.3)\n",
            "Requirement already satisfied: tqdm>=4.66.3 in /usr/local/lib/python3.11/dist-packages (from datasets) (4.67.1)\n",
            "Collecting xxhash (from datasets)\n",
            "  Downloading xxhash-3.5.0-cp311-cp311-manylinux_2_17_x86_64.manylinux2014_x86_64.whl.metadata (12 kB)\n",
            "Collecting multiprocess<0.70.17 (from datasets)\n",
            "  Downloading multiprocess-0.70.16-py311-none-any.whl.metadata (7.2 kB)\n",
            "Collecting fsspec<=2024.12.0,>=2023.1.0 (from fsspec[http]<=2024.12.0,>=2023.1.0->datasets)\n",
            "  Downloading fsspec-2024.12.0-py3-none-any.whl.metadata (11 kB)\n",
            "Requirement already satisfied: aiohttp in /usr/local/lib/python3.11/dist-packages (from datasets) (3.11.15)\n",
            "Requirement already satisfied: huggingface-hub>=0.24.0 in /usr/local/lib/python3.11/dist-packages (from datasets) (0.30.2)\n",
            "Requirement already satisfied: packaging in /usr/local/lib/python3.11/dist-packages (from datasets) (24.2)\n",
            "Requirement already satisfied: pyyaml>=5.1 in /usr/local/lib/python3.11/dist-packages (from datasets) (6.0.2)\n",
            "Requirement already satisfied: aiohappyeyeballs>=2.3.0 in /usr/local/lib/python3.11/dist-packages (from aiohttp->datasets) (2.6.1)\n",
            "Requirement already satisfied: aiosignal>=1.1.2 in /usr/local/lib/python3.11/dist-packages (from aiohttp->datasets) (1.3.2)\n",
            "Requirement already satisfied: attrs>=17.3.0 in /usr/local/lib/python3.11/dist-packages (from aiohttp->datasets) (25.3.0)\n",
            "Requirement already satisfied: frozenlist>=1.1.1 in /usr/local/lib/python3.11/dist-packages (from aiohttp->datasets) (1.6.0)\n",
            "Requirement already satisfied: multidict<7.0,>=4.5 in /usr/local/lib/python3.11/dist-packages (from aiohttp->datasets) (6.4.3)\n",
            "Requirement already satisfied: propcache>=0.2.0 in /usr/local/lib/python3.11/dist-packages (from aiohttp->datasets) (0.3.1)\n",
            "Requirement already satisfied: yarl<2.0,>=1.17.0 in /usr/local/lib/python3.11/dist-packages (from aiohttp->datasets) (1.20.0)\n",
            "Requirement already satisfied: typing-extensions>=3.7.4.3 in /usr/local/lib/python3.11/dist-packages (from huggingface-hub>=0.24.0->datasets) (4.13.2)\n",
            "Requirement already satisfied: charset-normalizer<4,>=2 in /usr/local/lib/python3.11/dist-packages (from requests>=2.32.2->datasets) (3.4.1)\n",
            "Requirement already satisfied: idna<4,>=2.5 in /usr/local/lib/python3.11/dist-packages (from requests>=2.32.2->datasets) (3.10)\n",
            "Requirement already satisfied: urllib3<3,>=1.21.1 in /usr/local/lib/python3.11/dist-packages (from requests>=2.32.2->datasets) (2.3.0)\n",
            "Requirement already satisfied: certifi>=2017.4.17 in /usr/local/lib/python3.11/dist-packages (from requests>=2.32.2->datasets) (2025.1.31)\n",
            "Requirement already satisfied: python-dateutil>=2.8.2 in /usr/local/lib/python3.11/dist-packages (from pandas->datasets) (2.8.2)\n",
            "Requirement already satisfied: pytz>=2020.1 in /usr/local/lib/python3.11/dist-packages (from pandas->datasets) (2025.2)\n",
            "Requirement already satisfied: tzdata>=2022.7 in /usr/local/lib/python3.11/dist-packages (from pandas->datasets) (2025.2)\n",
            "Requirement already satisfied: six>=1.5 in /usr/local/lib/python3.11/dist-packages (from python-dateutil>=2.8.2->pandas->datasets) (1.17.0)\n",
            "Downloading datasets-3.5.0-py3-none-any.whl (491 kB)\n",
            "\u001b[2K   \u001b[90m━━━━━━━━━━━━━━━━━━━━━━━━━━━━━━━━━━━━━━━━\u001b[0m \u001b[32m491.2/491.2 kB\u001b[0m \u001b[31m8.7 MB/s\u001b[0m eta \u001b[36m0:00:00\u001b[0m\n",
            "\u001b[?25hDownloading dill-0.3.8-py3-none-any.whl (116 kB)\n",
            "\u001b[2K   \u001b[90m━━━━━━━━━━━━━━━━━━━━━━━━━━━━━━━━━━━━━━━━\u001b[0m \u001b[32m116.3/116.3 kB\u001b[0m \u001b[31m7.3 MB/s\u001b[0m eta \u001b[36m0:00:00\u001b[0m\n",
            "\u001b[?25hDownloading fsspec-2024.12.0-py3-none-any.whl (183 kB)\n",
            "\u001b[2K   \u001b[90m━━━━━━━━━━━━━━━━━━━━━━━━━━━━━━━━━━━━━━━━\u001b[0m \u001b[32m183.9/183.9 kB\u001b[0m \u001b[31m13.1 MB/s\u001b[0m eta \u001b[36m0:00:00\u001b[0m\n",
            "\u001b[?25hDownloading multiprocess-0.70.16-py311-none-any.whl (143 kB)\n",
            "\u001b[2K   \u001b[90m━━━━━━━━━━━━━━━━━━━━━━━━━━━━━━━━━━━━━━━━\u001b[0m \u001b[32m143.5/143.5 kB\u001b[0m \u001b[31m10.3 MB/s\u001b[0m eta \u001b[36m0:00:00\u001b[0m\n",
            "\u001b[?25hDownloading xxhash-3.5.0-cp311-cp311-manylinux_2_17_x86_64.manylinux2014_x86_64.whl (194 kB)\n",
            "\u001b[2K   \u001b[90m━━━━━━━━━━━━━━━━━━━━━━━━━━━━━━━━━━━━━━━━\u001b[0m \u001b[32m194.8/194.8 kB\u001b[0m \u001b[31m12.9 MB/s\u001b[0m eta \u001b[36m0:00:00\u001b[0m\n",
            "\u001b[?25hInstalling collected packages: xxhash, fsspec, dill, multiprocess, datasets\n",
            "  Attempting uninstall: fsspec\n",
            "    Found existing installation: fsspec 2025.3.2\n",
            "    Uninstalling fsspec-2025.3.2:\n",
            "      Successfully uninstalled fsspec-2025.3.2\n",
            "\u001b[31mERROR: pip's dependency resolver does not currently take into account all the packages that are installed. This behaviour is the source of the following dependency conflicts.\n",
            "gcsfs 2025.3.2 requires fsspec==2025.3.2, but you have fsspec 2024.12.0 which is incompatible.\n",
            "torch 2.6.0+cu124 requires nvidia-cublas-cu12==12.4.5.8; platform_system == \"Linux\" and platform_machine == \"x86_64\", but you have nvidia-cublas-cu12 12.5.3.2 which is incompatible.\n",
            "torch 2.6.0+cu124 requires nvidia-cuda-cupti-cu12==12.4.127; platform_system == \"Linux\" and platform_machine == \"x86_64\", but you have nvidia-cuda-cupti-cu12 12.5.82 which is incompatible.\n",
            "torch 2.6.0+cu124 requires nvidia-cuda-nvrtc-cu12==12.4.127; platform_system == \"Linux\" and platform_machine == \"x86_64\", but you have nvidia-cuda-nvrtc-cu12 12.5.82 which is incompatible.\n",
            "torch 2.6.0+cu124 requires nvidia-cuda-runtime-cu12==12.4.127; platform_system == \"Linux\" and platform_machine == \"x86_64\", but you have nvidia-cuda-runtime-cu12 12.5.82 which is incompatible.\n",
            "torch 2.6.0+cu124 requires nvidia-cudnn-cu12==9.1.0.70; platform_system == \"Linux\" and platform_machine == \"x86_64\", but you have nvidia-cudnn-cu12 9.3.0.75 which is incompatible.\n",
            "torch 2.6.0+cu124 requires nvidia-cufft-cu12==11.2.1.3; platform_system == \"Linux\" and platform_machine == \"x86_64\", but you have nvidia-cufft-cu12 11.2.3.61 which is incompatible.\n",
            "torch 2.6.0+cu124 requires nvidia-curand-cu12==10.3.5.147; platform_system == \"Linux\" and platform_machine == \"x86_64\", but you have nvidia-curand-cu12 10.3.6.82 which is incompatible.\n",
            "torch 2.6.0+cu124 requires nvidia-cusolver-cu12==11.6.1.9; platform_system == \"Linux\" and platform_machine == \"x86_64\", but you have nvidia-cusolver-cu12 11.6.3.83 which is incompatible.\n",
            "torch 2.6.0+cu124 requires nvidia-cusparse-cu12==12.3.1.170; platform_system == \"Linux\" and platform_machine == \"x86_64\", but you have nvidia-cusparse-cu12 12.5.1.3 which is incompatible.\n",
            "torch 2.6.0+cu124 requires nvidia-nvjitlink-cu12==12.4.127; platform_system == \"Linux\" and platform_machine == \"x86_64\", but you have nvidia-nvjitlink-cu12 12.5.82 which is incompatible.\u001b[0m\u001b[31m\n",
            "\u001b[0mSuccessfully installed datasets-3.5.0 dill-0.3.8 fsspec-2024.12.0 multiprocess-0.70.16 xxhash-3.5.0\n"
          ]
        }
      ]
    },
    {
      "cell_type": "code",
      "source": [
        "from datasets import load_dataset\n",
        "import pandas as pd"
      ],
      "metadata": {
        "id": "rdXtGFk8NfpD"
      },
      "execution_count": 3,
      "outputs": []
    },
    {
      "cell_type": "code",
      "execution_count": 6,
      "metadata": {
        "colab": {
          "base_uri": "https://localhost:8080/"
        },
        "id": "uStQjS4DNdw-",
        "outputId": "e7aa2b7f-7c4f-49c2-bdf1-e7dc3ab86373"
      },
      "outputs": [
        {
          "output_type": "stream",
          "name": "stdout",
          "text": [
            "Filtered saved to: filtered_wikitext.csv\n"
          ]
        }
      ],
      "source": [
        "\n",
        "\n",
        "\n",
        "def extract_data_from_keyword(keywords, output_file = \"filtered_wikitext.csv\"):\n",
        "  dataset = load_dataset(\"wikitext\", \"wikitext-103-v1\")\n",
        "  filtered = []\n",
        "  for i in [\"train\", \"test\", \"validation\"]:\n",
        "    for j in dataset[i][\"text\"]:\n",
        "      if not i.strip() or i.startswith(\" =\"):\n",
        "        continue\n",
        "\n",
        "      if any(keyword.lower() in j.lower() for keyword in keywords):\n",
        "        filtered.append({\"text\": j.strip()})\n",
        "\n",
        "  df = pd.DataFrame(filtered, columns=[\"text\"])\n",
        "  df.to_csv(output_file, index=False)\n",
        "  print(f\"Filtered saved to: {output_file}\")\n",
        "\n",
        "\n",
        "\n",
        "keywords = [\"math\", \"euler\", \"fourier\"]\n",
        "extract_data_from_keyword(keywords)"
      ]
    },
    {
      "cell_type": "code",
      "source": [
        "from google.colab import drive\n",
        "drive.mount('/content/drive')\n",
        "\n",
        "!cp filtered_wikitext.csv /content/drive/My\\ Drive/\n",
        "!ls /content/drive/My\\ Drive/\n"
      ],
      "metadata": {
        "colab": {
          "base_uri": "https://localhost:8080/"
        },
        "id": "AKnSWe2UNsaM",
        "outputId": "7cfc50ac-129f-4084-ee24-d9132570d57b"
      },
      "execution_count": 5,
      "outputs": [
        {
          "output_type": "stream",
          "name": "stdout",
          "text": [
            "Drive already mounted at /content/drive; to attempt to forcibly remount, call drive.mount(\"/content/drive\", force_remount=True).\n",
            "'1 (10).gdoc'\n",
            " 1111.gdoc\n",
            " 1111.png\n",
            "'1 (11).gdoc'\n",
            "'1 (12).gdoc'\n",
            "'1 (13).gdoc'\n",
            "'1 (14).gdoc'\n",
            "'1 (15).gdoc'\n",
            "'1 (16).gdoc'\n",
            "'1 (1).gdoc'\n",
            "'12 (1).gdoc'\n",
            " 12.gdoc\n",
            "'1 (2).gdoc'\n",
            " 12.png\n",
            "'1 (3).gdoc'\n",
            "'1 (4).gdoc'\n",
            "'1 (5).gdoc'\n",
            "'1 (6).gdoc'\n",
            "'1 (7).gdoc'\n",
            "'1 (8).gdoc'\n",
            "'1 (9).gdoc'\n",
            " 1.gdoc\n",
            " 1.jpeg\n",
            " 1.png\n",
            "'2 (1).gdoc'\n",
            " 22.gdoc\n",
            "'2 (2).gdoc'\n",
            " 22.png\n",
            "'2 (3).gdoc'\n",
            "'2 (4).gdoc'\n",
            " 2.gdoc\n",
            " 2.jpeg\n",
            " 2.png\n",
            "'3 (1).gdoc'\n",
            "'3 (2).gdoc'\n",
            "'3 (3).gdoc'\n",
            " 3.gdoc\n",
            " 3.png\n",
            "'4 (1).gdoc'\n",
            "'4 (2).gdoc'\n",
            " 4_6003766038108311287.mp4\n",
            " 4.gdoc\n",
            " 4.png\n",
            "'5 (1).gdoc'\n",
            " 5.gdoc\n",
            " 5.png\n",
            " A1.gdoc\n",
            " A1.png\n",
            " A2.gdoc\n",
            " A2.png\n",
            "'alireza babazadeh zarei.mp4'\n",
            "'ASR Datasets.gdoc'\n",
            " citeseer.cites\n",
            " citeseer.content\n",
            "'Colab Notebooks'\n",
            " common_voice.zip\n",
            "'Copy of GenX Tagline Template.gslides'\n",
            "'Data Augmentation in Speech Recognition.gdoc'\n",
            " df.csv\n",
            " filtered_wikitext.csv\n",
            " Guidlines2Plaintext.zip\n",
            "'how to solve this in excel:'$'\\n''\"Consider the Dataset... (1).gsheet'\n",
            "'how to solve this in excel:'$'\\n''\"Consider the Dataset....gsheet'\n",
            " IMG_20230804_200540_959.jpg\n",
            " IMG_20230903_222822_365.jpg\n",
            "'LLM Gantt Chart Template.gsheet'\n",
            " minesweeper.gdoc\n",
            " minesweeper.png\n",
            "'My Folder'\n",
            " notebookbee985cee0.ipynb\n",
            " photo_2024-02-03_23-49-57.gdoc\n",
            " photo_2024-02-03_23-49-57.jpg\n",
            "'project os.rar'\n",
            " project.rar\n",
            "'ravansha introduction'\n",
            " ref.gdoc\n",
            " ref.png\n",
            "'Screenshot 2023-05-12 at 22-13-35 راهنماي نگارش مقاله در فصلنامه جغرافياي انساني - GEOGRAPHY_Volume 8_Issue 4_Pages 15-28.pdf.png'\n",
            "'Screenshot 2023-05-12 at 22-14-00 راهنماي نگارش مقاله در فصلنامه جغرافياي انساني - GEOGRAPHY_Volume 8_Issue 4_Pages 15-28.pdf.gdoc'\n",
            "'Screenshot 2023-05-12 at 22-14-00 راهنماي نگارش مقاله در فصلنامه جغرافياي انساني - GEOGRAPHY_Volume 8_Issue 4_Pages 15-28.pdf.png'\n",
            "'Screenshot 2023-05-12 at 22-14-28 راهنماي نگارش مقاله در فصلنامه جغرافياي انساني - GEOGRAPHY_Volume 8_Issue 4_Pages 15-28.pdf.gdoc'\n",
            "'Screenshot 2023-05-12 at 22-14-28 راهنماي نگارش مقاله در فصلنامه جغرافياي انساني - GEOGRAPHY_Volume 8_Issue 4_Pages 15-28.pdf.png'\n",
            "'Screenshot 2023-05-12 at 22-14-51 راهنماي نگارش مقاله در فصلنامه جغرافياي انساني - GEOGRAPHY_Volume 8_Issue 4_Pages 15-28.pdf.gdoc'\n",
            "'Screenshot 2023-05-12 at 22-14-51 راهنماي نگارش مقاله در فصلنامه جغرافياي انساني - GEOGRAPHY_Volume 8_Issue 4_Pages 15-28.pdf.png'\n",
            "'To-do list.gsheet'\n",
            " TTS.gdoc\n",
            "'Untitled1 (1).gdoc'\n",
            "'Untitled1 (2).gdoc'\n",
            " Untitled1.gdoc\n",
            "'Untitled (1).gdoc'\n",
            " Untitled1.png\n",
            "'Untitled document (1).gdoc'\n",
            "'Untitled document (2).gdoc'\n",
            "'Untitled document.gdoc'\n",
            " Untitled.gdoc\n",
            " Untitled.png\n",
            "'Untitled spreadsheet (1).gsheet'\n",
            "'Untitled spreadsheet (2).gsheet'\n",
            "'Untitled spreadsheet (3).gsheet'\n",
            "'Untitled spreadsheet (4).gsheet'\n",
            "'Untitled spreadsheet (5).gsheet'\n",
            "'Untitled spreadsheet.gsheet'\n",
            "'از روش های زیر کدامیک برای تعمیر و نگهداری موتور....gsheet'\n",
            "'این جدول را پر کن:'$'\\n''\"\".gsheet'\n",
            "'پایان نامه سارا افشارنژاد(2).doc'\n",
            "'پایان نامه سارا افشارنژاد(2).docx'\n",
            "'پایان نامه سارا افشارنژاد(2).pdf'\n",
            "'داروهای ترالی اورژانس.gsheet'\n",
            "'دو رویکرد feature based و fine tunning برای یادگی....gsheet'\n",
            "'گزارش پروژه fine tune چت بات تشخیص پزشکی.gdoc'\n",
            "'گزارش مدل vlm مناسب نسخه 1:.gdoc'\n"
          ]
        }
      ]
    },
    {
      "cell_type": "code",
      "source": [],
      "metadata": {
        "id": "RiJcheGgPDJ-"
      },
      "execution_count": null,
      "outputs": []
    }
  ]
}