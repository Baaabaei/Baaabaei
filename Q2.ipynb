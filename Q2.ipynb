{
  "nbformat": 4,
  "nbformat_minor": 0,
  "metadata": {
    "colab": {
      "provenance": [],
      "authorship_tag": "ABX9TyOBj6aLZyKMMng0uvD14mOE",
      "include_colab_link": true
    },
    "kernelspec": {
      "name": "python3",
      "display_name": "Python 3"
    },
    "language_info": {
      "name": "python"
    }
  },
  "cells": [
    {
      "cell_type": "markdown",
      "metadata": {
        "id": "view-in-github",
        "colab_type": "text"
      },
      "source": [
        "<a href=\"https://colab.research.google.com/github/Baaabaei/Baaabaei/blob/main/Q2.ipynb\" target=\"_parent\"><img src=\"https://colab.research.google.com/assets/colab-badge.svg\" alt=\"Open In Colab\"/></a>"
      ]
    },
    {
      "cell_type": "code",
      "source": [
        "pip install pulp"
      ],
      "metadata": {
        "colab": {
          "base_uri": "https://localhost:8080/"
        },
        "id": "Hfp50rIV7L40",
        "outputId": "1aaff516-92ef-4af1-e927-75043012d582"
      },
      "execution_count": 35,
      "outputs": [
        {
          "output_type": "stream",
          "name": "stdout",
          "text": [
            "Requirement already satisfied: pulp in /usr/local/lib/python3.10/dist-packages (2.8.0)\n"
          ]
        }
      ]
    },
    {
      "cell_type": "code",
      "source": [
        "from pulp import *"
      ],
      "metadata": {
        "id": "lQUkpQ277GjR"
      },
      "execution_count": 66,
      "outputs": []
    },
    {
      "cell_type": "code",
      "source": [
        "# Create a LP problem\n",
        "problem = LpProblem(\"Generator Optimization\", LpMinimize)"
      ],
      "metadata": {
        "colab": {
          "base_uri": "https://localhost:8080/"
        },
        "id": "KKIYQjC87GVT",
        "outputId": "7fcd4b60-7a53-4a45-a388-2bfdc4151765"
      },
      "execution_count": 67,
      "outputs": [
        {
          "output_type": "stream",
          "name": "stderr",
          "text": [
            "/usr/local/lib/python3.10/dist-packages/pulp/pulp.py:1316: UserWarning: Spaces are not permitted in the name. Converted to '_'\n",
            "  warnings.warn(\"Spaces are not permitted in the name. Converted to '_'\")\n"
          ]
        }
      ]
    },
    {
      "cell_type": "code",
      "source": [
        "# Define variables for thermal generators\n",
        "thermal_1 = LpVariable(\"Thermal 1\", lowBound=0, cat='Integer')\n",
        "thermal_2 = LpVariable(\"Thermal 2\", lowBound=0, cat='Integer')\n",
        "thermal_3 = LpVariable(\"Thermal 3\", lowBound=0, cat='Integer')"
      ],
      "metadata": {
        "id": "kuW4G0S67RIB"
      },
      "execution_count": 68,
      "outputs": []
    },
    {
      "cell_type": "code",
      "source": [
        "# Define variables for water generators\n",
        "water_A = LpVariable(\"Water A\", lowBound=0, cat='int')\n",
        "water_B = LpVariable(\"Water B\", lowBound=0, cat='int')"
      ],
      "metadata": {
        "id": "0JVPM9-87Uup"
      },
      "execution_count": 69,
      "outputs": []
    },
    {
      "cell_type": "code",
      "source": [
        "# Define objective function\n",
        "problem += (2000 * (thermal_1 + thermal_2 + thermal_3) +\n",
        "            1500 * water_A + 1200 * water_B)"
      ],
      "metadata": {
        "id": "KrT7f-zp7aGN"
      },
      "execution_count": 70,
      "outputs": []
    },
    {
      "cell_type": "code",
      "source": [
        "# Define constraints for electricity load requirements\n",
        "problem += (850 * thermal_1 + 1250 * thermal_2 + 1500 * thermal_3 +\n",
        "            900 * water_A + 1400 * water_B >= 15000)\n",
        "problem += (850 * thermal_1 + 1250 * thermal_2 + 1500 * thermal_3 +\n",
        "            900 * water_A + 1400 * water_B >= 30000)\n",
        "problem += (850 * thermal_1 + 1250 * thermal_2 + 1500 * thermal_3 +\n",
        "            900 * water_A + 1400 * water_B >= 25000)\n",
        "problem += (850 * thermal_1 + 1250 * thermal_2 + 1500 * thermal_3 +\n",
        "            900 * water_A + 1400 * water_B >= 40000)\n",
        "problem += (850 * thermal_1 + 1250 * thermal_2 + 1500 * thermal_3 +\n",
        "            900 * water_A + 1400 * water_B >= 27000)"
      ],
      "metadata": {
        "id": "aY2NCkXM7cuh"
      },
      "execution_count": 71,
      "outputs": []
    },
    {
      "cell_type": "code",
      "source": [
        "# Define constraints for generator levels\n",
        "problem += thermal_1 <= 2000\n",
        "problem += thermal_2 <= 1750\n",
        "problem += thermal_3 <= 4000\n"
      ],
      "metadata": {
        "id": "WaGThA4C7fal"
      },
      "execution_count": 72,
      "outputs": []
    },
    {
      "cell_type": "code",
      "source": [
        "\n",
        "# Define constraints for responding to increased demand\n",
        "demand_constraint = LpAffineExpression([(thermal_1, -850), (thermal_2, -1250), (thermal_3, -1500)])\n",
        "demand_constraint.addterm(water_A, -900 / 3000)\n",
        "demand_constraint.addterm(water_B, -1400 / 3000)\n",
        "problem += (thermal_1 + thermal_2 + thermal_3 +\n",
        "            demand_constraint >= (1.15 * demand_constraint))\n"
      ],
      "metadata": {
        "id": "kp7fhyRM7hP4"
      },
      "execution_count": 73,
      "outputs": []
    },
    {
      "cell_type": "code",
      "source": [],
      "metadata": {
        "id": "IwN08VTX-uuW"
      },
      "execution_count": 73,
      "outputs": []
    },
    {
      "cell_type": "code",
      "source": [
        "thermal_sum = thermal_1 + thermal_2 + thermal_3\n",
        "print(water_A.value)"
      ],
      "metadata": {
        "colab": {
          "base_uri": "https://localhost:8080/"
        },
        "id": "anW60iwZ_ujF",
        "outputId": "c4e60883-b7f4-4b25-c287-a9c70caa62af"
      },
      "execution_count": 74,
      "outputs": [
        {
          "output_type": "stream",
          "name": "stdout",
          "text": [
            "<bound method LpVariable.value of Water_A>\n"
          ]
        }
      ]
    },
    {
      "cell_type": "code",
      "source": [
        "# Define constraints for tank depth\n",
        "water_A.value = 1\n",
        "water_B.value = 1\n",
        "problem += (water_A.value * (16 -(0.3*thermal_sum)) >= 15)\n",
        "problem += (water_B.value * (16 - (0.4666) *(thermal_sum)) >= 15)"
      ],
      "metadata": {
        "id": "iP0n3Iwt7jul"
      },
      "execution_count": 75,
      "outputs": []
    },
    {
      "cell_type": "code",
      "source": [
        "# Solve the problem\n",
        "status = problem.solve()"
      ],
      "metadata": {
        "id": "_XaDeyYDCBBV"
      },
      "execution_count": 76,
      "outputs": []
    },
    {
      "cell_type": "code",
      "execution_count": 77,
      "metadata": {
        "colab": {
          "base_uri": "https://localhost:8080/"
        },
        "id": "O3gE5Tl27Csb",
        "outputId": "89e5e0af-6a8c-4e04-b22c-09f40f755ef6"
      },
      "outputs": [
        {
          "output_type": "stream",
          "name": "stdout",
          "text": [
            "Optimal solution found with total cost: $34285.7148\n",
            "Thermal Generator Levels:\n",
            "Thermal 1: 0.0\n",
            "Thermal 2: 0.0\n",
            "Thermal 3: 0.0\n",
            "Water Generators:\n",
            "Water A should run.\n",
            "Water B should run.\n"
          ]
        }
      ],
      "source": [
        "\n",
        "if status == LpStatusOptimal:\n",
        "    # Print the optimal solution\n",
        "    print(f\"Optimal solution found with total cost: ${value(problem.objective)}\")\n",
        "    print(f\"Thermal Generator Levels:\")\n",
        "    print(f\"Thermal 1: {value(thermal_1)}\")\n",
        "    print(f\"Thermal 2: {value(thermal_2)}\")\n",
        "    print(f\"Thermal 3: {value(thermal_3)}\")\n",
        "    print(f\"Water Generators:\")\n",
        "    if (water_A.value) == 1:\n",
        "        print(\"Water A should run.\")\n",
        "    if value(water_B.value) == 1:\n",
        "        print(\"Water B should run.\")\n",
        "else:\n",
        "    print(\"No optimal solution found.\")"
      ]
    },
    {
      "cell_type": "code",
      "source": [],
      "metadata": {
        "id": "_mfPjSFyCHng"
      },
      "execution_count": null,
      "outputs": []
    }
  ]
}